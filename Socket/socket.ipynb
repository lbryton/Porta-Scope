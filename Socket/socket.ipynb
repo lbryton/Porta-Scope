{
 "cells": [
  {
   "cell_type": "code",
   "execution_count": 1,
   "id": "c2141217",
   "metadata": {},
   "outputs": [],
   "source": [
    "import socket\n",
    "import threading\n",
    "import subprocess\n",
    "import os\n",
    "from dotenv import load_dotenv\n",
    "\n"
   ]
  },
  {
   "cell_type": "code",
   "execution_count": null,
   "id": "a27940d4",
   "metadata": {},
   "outputs": [
    {
     "ename": "TypeError",
     "evalue": "gethostbyaddr() takes exactly 1 argument (0 given)",
     "output_type": "error",
     "traceback": [
      "\u001b[31m---------------------------------------------------------------------------\u001b[39m",
      "\u001b[31mTypeError\u001b[39m                                 Traceback (most recent call last)",
      "\u001b[36mCell\u001b[39m\u001b[36m \u001b[39m\u001b[32mIn[2]\u001b[39m\u001b[32m, line 61\u001b[39m\n\u001b[32m     58\u001b[39m             conn.close()\n\u001b[32m     60\u001b[39m \u001b[38;5;28;01mif\u001b[39;00m \u001b[34m__name__\u001b[39m == \u001b[33m\"\u001b[39m\u001b[33m__main__\u001b[39m\u001b[33m\"\u001b[39m:\n\u001b[32m---> \u001b[39m\u001b[32m61\u001b[39m     \u001b[43mstart_server\u001b[49m\u001b[43m(\u001b[49m\u001b[43m)\u001b[49m\n",
      "\u001b[36mCell\u001b[39m\u001b[36m \u001b[39m\u001b[32mIn[2]\u001b[39m\u001b[32m, line 41\u001b[39m, in \u001b[36mstart_server\u001b[39m\u001b[34m()\u001b[39m\n\u001b[32m     38\u001b[39m server_socket.bind((SERVER_IP, SERVER_PORT))\n\u001b[32m     39\u001b[39m server_socket.listen(\u001b[32m5\u001b[39m)\n\u001b[32m---> \u001b[39m\u001b[32m41\u001b[39m \u001b[38;5;28mprint\u001b[39m(\u001b[33mf\u001b[39m\u001b[33m\"\u001b[39m\u001b[33mServer on \u001b[39m\u001b[38;5;132;01m{\u001b[39;00m\u001b[43msocket\u001b[49m\u001b[43m.\u001b[49m\u001b[43mgethostbyaddr\u001b[49m\u001b[43m(\u001b[49m\u001b[43m)\u001b[49m\u001b[38;5;132;01m}\u001b[39;00m\u001b[33m\"\u001b[39m)\n\u001b[32m     42\u001b[39m \u001b[38;5;28mprint\u001b[39m(\u001b[33mf\u001b[39m\u001b[33m\"\u001b[39m\u001b[33mServer listening on \u001b[39m\u001b[38;5;132;01m{\u001b[39;00mSERVER_IP\u001b[38;5;132;01m}\u001b[39;00m\u001b[33m:\u001b[39m\u001b[38;5;132;01m{\u001b[39;00mSERVER_PORT\u001b[38;5;132;01m}\u001b[39;00m\u001b[33m\"\u001b[39m)\n\u001b[32m     44\u001b[39m \u001b[38;5;28;01mwhile\u001b[39;00m \u001b[38;5;28;01mTrue\u001b[39;00m:\n",
      "\u001b[31mTypeError\u001b[39m: gethostbyaddr() takes exactly 1 argument (0 given)"
     ]
    }
   ],
   "source": [
    "tx_lock = threading.Lock()\n",
    "SERVER_IP = os.getenv(\"LISTEN_IP\")\n",
    "SERVER_PORT = int(os.getenv(\"SERVER_PORT\"))\n",
    "\n",
    "def handle_client(conn, addr):\n",
    "    print(f\"New connection from {addr}\")\n",
    "    conn.sendall(\"Continue\".encode())\n",
    "    total_len = 0\n",
    "\n",
    "    # TODO: Check if file already exists, if it does, remove it\n",
    "    # No need to do this, b+w already flushes out file\n",
    "\n",
    "    # Connection closes after writing to file\n",
    "    with open(\"../startup/test.raw\", \"b+w\") as f: \n",
    "        with conn:\n",
    "            while True:\n",
    "                data = conn.recv(1024)\n",
    "                if not data:\n",
    "                    print(f\"Connection closed by {addr}\")\n",
    "                    break\n",
    "                f.write(data)\n",
    "                total_len += len(data)\n",
    "            \n",
    "    # Handle running signal and deleting file\n",
    "    # TODO: Run subprocess\n",
    "    # subprocess.run([\"./transmit.elf\", \"--tx-file=test.raw\", \"--tx-gain=7\"])\n",
    "    # subprocess.run([\"python\", \"../helloworld.py\"])\n",
    "    # TODO: Remove file\n",
    "    # subprocess.run([\"rm\", \"./startup/data.raw\"])\n",
    "\n",
    "    print(\"Done\")\n",
    "    tx_lock.release_lock()\n",
    "    \n",
    "def start_server():\n",
    "    # Set up server\n",
    "    server_socket = socket.socket(socket.AF_INET, socket.SOCK_STREAM)\n",
    "    server_socket.setsockopt(socket.SOL_SOCKET, socket.SO_REUSEADDR, 1)\n",
    "    server_socket.bind((SERVER_IP, SERVER_PORT))\n",
    "    server_socket.listen(5)\n",
    "\n",
    "    print(f\"Server listening on {SERVER_IP}:{SERVER_PORT}\")\n",
    "\n",
    "    while True:\n",
    "        print(\"Waiting for a new connection...\")\n",
    "        conn, addr = server_socket.accept()\n",
    "\n",
    "        # Only handle one client at a time\n",
    "        if tx_lock.acquire_lock(blocking=False):\n",
    "            \n",
    "            # Punt client onto a new thread\n",
    "            thread = threading.Thread(target=handle_client, args=(conn, addr))\n",
    "            thread.start()\n",
    "\n",
    "            print(\"Ready for the next client.\")\n",
    "        else: \n",
    "            conn.sendall(\"Failed to run\".encode())\n",
    "            conn.close()\n",
    "\n",
    "if __name__ == \"__main__\":\n",
    "    start_server()\n"
   ]
  }
 ],
 "metadata": {
  "kernelspec": {
   "display_name": "lin-venv",
   "language": "python",
   "name": "python3"
  },
  "language_info": {
   "codemirror_mode": {
    "name": "ipython",
    "version": 3
   },
   "file_extension": ".py",
   "mimetype": "text/x-python",
   "name": "python",
   "nbconvert_exporter": "python",
   "pygments_lexer": "ipython3",
   "version": "3.12.2"
  }
 },
 "nbformat": 4,
 "nbformat_minor": 5
}
