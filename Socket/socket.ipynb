{
 "cells": [
  {
   "cell_type": "code",
   "execution_count": 1,
   "id": "c2141217",
   "metadata": {},
   "outputs": [],
   "source": [
    "import socket\n",
    "import threading\n",
    "import subprocess\n",
    "import os\n",
    "from dotenv import load_dotenv\n",
    "\n"
   ]
  },
  {
   "cell_type": "code",
   "execution_count": null,
   "id": "a27940d4",
   "metadata": {},
   "outputs": [
    {
     "name": "stdout",
     "output_type": "stream",
     "text": [
      "Server listening on 0.0.0.0:5001\n",
      "Waiting for a new connection...\n",
      "New connection from ('192.168.59.27', 54186)Ready for the next client.\n",
      "Waiting for a new connection...\n",
      "\n",
      "Data len: 6767; A\n",
      "1024\n",
      "1024\n",
      "1024\n",
      "1024\n",
      "1024\n",
      "1024\n",
      "623\n",
      "Connection closed by ('192.168.59.27', 54186)\n",
      "Done\n"
     ]
    }
   ],
   "source": [
    "tx_lock = threading.Lock()\n",
    "SERVER_IP = os.getenv(\"LISTEN_IP\")\n",
    "SERVER_PORT = int(os.getenv(\"SERVER_PORT\"))\n",
    "\n",
    "def handle_client(conn, addr):\n",
    "    print(f\"New connection from {addr}\\n\")\n",
    "    conn.sendall(\"Continue\".encode())\n",
    "    total_len = 0\n",
    "\n",
    "    # TODO: Check if file already exists, if it does, remove it\n",
    "    # No need to do this, b+w already flushes out file\n",
    "\n",
    "    # Connection closes after writing to file\n",
    "    with open(\"../startup/test.raw\", \"b+w\") as f: \n",
    "        with conn:\n",
    "            # TODO: Get bytes of file\n",
    "            data_bytes = conn.recv(1024).decode()\n",
    "            if not data_bytes.isdigit():\n",
    "                print(\"Data not as integer\")\n",
    "                tx_lock.release_lock()\n",
    "                return\n",
    "            \n",
    "            data_bytes = int(data_bytes)        \n",
    "            while True:\n",
    "                data = conn.recv(1024)\n",
    "                if not data:\n",
    "                    print(f\"Connection closed by {addr}\")\n",
    "                    break\n",
    "                f.write(data)\n",
    "                total_len += len(data)\n",
    "    \n",
    "    # Handle running signal and deleting file\n",
    "    if data_bytes == total_len:\n",
    "        # TODO: Run subprocess\n",
    "        # subprocess.run([\"./transmit.elf\", \"--tx-file=test.raw\", \"--tx-gain=7\"])\n",
    "        # subprocess.run([\"python\", \"../helloworld.py\"])\n",
    "        # TODO: Remove file\n",
    "        # subprocess.run([\"rm\", \"./startup/data.raw\"])\n",
    "        print(\"Done\")\n",
    "    else:\n",
    "        print(\"failed\")\n",
    "    tx_lock.release_lock()\n",
    "    \n",
    "def start_server():\n",
    "    # Set up server\n",
    "    server_socket = socket.socket(socket.AF_INET, socket.SOCK_STREAM)\n",
    "    server_socket.setsockopt(socket.SOL_SOCKET, socket.SO_REUSEADDR, 1)\n",
    "    server_socket.bind((SERVER_IP, SERVER_PORT))\n",
    "    server_socket.listen(5)\n",
    "\n",
    "    print(f\"Server listening on {SERVER_IP}:{SERVER_PORT}\")\n",
    "\n",
    "    while True:\n",
    "        print(\"Waiting for a new connection...\")\n",
    "        conn, addr = server_socket.accept()\n",
    "\n",
    "        # Only handle one client at a time\n",
    "        if tx_lock.acquire_lock(blocking=False):\n",
    "            \n",
    "            # Punt client onto a new thread\n",
    "            thread = threading.Thread(target=handle_client, args=(conn, addr))\n",
    "            thread.start()\n",
    "\n",
    "            print(\"Ready for the next client.\")\n",
    "        else: \n",
    "            conn.sendall(\"Failed to run\".encode())\n",
    "            conn.close()\n",
    "\n",
    "if __name__ == \"__main__\":\n",
    "    start_server()\n"
   ]
  },
  {
   "cell_type": "code",
   "execution_count": null,
   "id": "0d41d00e",
   "metadata": {},
   "outputs": [],
   "source": []
  }
 ],
 "metadata": {
  "kernelspec": {
   "display_name": "lin-venv",
   "language": "python",
   "name": "python3"
  },
  "language_info": {
   "codemirror_mode": {
    "name": "ipython",
    "version": 3
   },
   "file_extension": ".py",
   "mimetype": "text/x-python",
   "name": "python",
   "nbconvert_exporter": "python",
   "pygments_lexer": "ipython3",
   "version": "3.12.2"
  }
 },
 "nbformat": 4,
 "nbformat_minor": 5
}
